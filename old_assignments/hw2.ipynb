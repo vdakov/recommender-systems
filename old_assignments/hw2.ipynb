{
 "cells": [
  {
   "cell_type": "markdown",
   "id": "f583fc73-473b-423f-aee7-376077a2321a",
   "metadata": {},
   "source": [
    "# DSAIT4335 Recommender Systems\n",
    "# Assignment 2: Collaborative Filtering"
   ]
  },
  {
   "cell_type": "markdown",
   "id": "d518530c-38b5-4e5e-bbcc-1dcba666ef94",
   "metadata": {},
   "source": [
    "In this assignment, you will work to build different recommendation models under Collaborative Filtering approach, including user-based and item-based neighborhood models, and matrix factorization. Then, you will apply these recommendation models on a public dataset. The dataset is **MovieLens100K**, a movie recommendation dataset collected by GroupLens: https://grouplens.org/datasets/movielens/100k/.\n",
    "\n",
    "By the end of this assignment, you will:\n",
    "1. Understand the fundamental principles of collaborative filtering approach\n",
    "2. Implement user-based and item-based neighborhood methods\n",
    "3. Develop recommendation generation and prediction with SLIM and MF models\n",
    "4. Perform both rating prediction and top-k recommendation tasks\n",
    "5. Evaluate collaborative filtering methods to understand their strengths/limitations"
   ]
  },
  {
   "cell_type": "markdown",
   "id": "5473ebe1-c51b-485a-90f5-beefb1c8e9b9",
   "metadata": {},
   "source": [
    "# Instruction"
   ]
  },
  {
   "cell_type": "markdown",
   "id": "6470aee6-0d13-496f-883a-f224469b4df3",
   "metadata": {},
   "source": [
    "The MovieLens100K is already splitted into 80% training and 20% test sets. \n",
    "\n",
    "**Expected file structure** for this assignment:   \n",
    "   \n",
    "   ```\n",
    "   Assignment2/\n",
    "   ├── training.txt\n",
    "   ├── test.txt\n",
    "   └── hw2.ipynb\n",
    "   ```\n",
    "\n",
    "**Note:** Be sure to run all cells in each section sequentially, so that intermediate variables and packages are properly carried over to subsequent cells.\n",
    "\n",
    "**Submission:** Answer all the questions in this jupyter-notebook file. Submit this jupyter-notebook file (your answers included) to Brightspace. Change the name of this jupyter-notebook file to your name: firstname-lastname.ipynb."
   ]
  },
  {
   "cell_type": "markdown",
   "id": "028371e8-3f20-456f-bc81-c2b1cead2f13",
   "metadata": {},
   "source": [
    "# Setup"
   ]
  },
  {
   "cell_type": "markdown",
   "id": "20bf874a-285c-4f84-8d63-23f16b2289bb",
   "metadata": {},
   "source": [
    "Import necessary libraries/packages."
   ]
  },
  {
   "cell_type": "code",
   "execution_count": 1,
   "id": "cfb2c8cb-4471-4fb2-9da5-5204db2ff286",
   "metadata": {},
   "outputs": [
    {
     "name": "stdout",
     "output_type": "stream",
     "text": [
      "Libraries imported successfully!\n"
     ]
    }
   ],
   "source": [
    "import numpy as np\n",
    "import pandas as pd\n",
    "import matplotlib.pyplot as plt\n",
    "import seaborn as sns\n",
    "from scipy.sparse import csr_matrix\n",
    "from scipy.spatial.distance import cosine, correlation\n",
    "from sklearn.metrics import mean_squared_error, mean_absolute_error\n",
    "from sklearn.model_selection import train_test_split\n",
    "import time, math\n",
    "import warnings\n",
    "warnings.filterwarnings('ignore')\n",
    "\n",
    "# Set random seed for reproducibility\n",
    "np.random.seed(42)\n",
    "\n",
    "print(\"Libraries imported successfully!\")"
   ]
  },
  {
   "cell_type": "markdown",
   "id": "e5fa15d0-58b0-4d34-8659-aeb64c110510",
   "metadata": {},
   "source": [
    "# 1) MovieLens100K dataset"
   ]
  },
  {
   "cell_type": "markdown",
   "id": "d64fab09-20a4-4a21-a27a-d459a2b2b2b1",
   "metadata": {},
   "source": [
    "Load the data files: training and test sets."
   ]
  },
  {
   "cell_type": "code",
   "execution_count": 2,
   "id": "4a07dcae-eec6-4660-bc57-e2b5dcc258a9",
   "metadata": {},
   "outputs": [
    {
     "name": "stdout",
     "output_type": "stream",
     "text": [
      "The training data:\n"
     ]
    },
    {
     "data": {
      "text/html": [
       "<div>\n",
       "<style scoped>\n",
       "    .dataframe tbody tr th:only-of-type {\n",
       "        vertical-align: middle;\n",
       "    }\n",
       "\n",
       "    .dataframe tbody tr th {\n",
       "        vertical-align: top;\n",
       "    }\n",
       "\n",
       "    .dataframe thead th {\n",
       "        text-align: right;\n",
       "    }\n",
       "</style>\n",
       "<table border=\"1\" class=\"dataframe\">\n",
       "  <thead>\n",
       "    <tr style=\"text-align: right;\">\n",
       "      <th></th>\n",
       "      <th>user_id</th>\n",
       "      <th>item_id</th>\n",
       "      <th>rating</th>\n",
       "    </tr>\n",
       "  </thead>\n",
       "  <tbody>\n",
       "    <tr>\n",
       "      <th>0</th>\n",
       "      <td>1</td>\n",
       "      <td>1</td>\n",
       "      <td>5</td>\n",
       "    </tr>\n",
       "    <tr>\n",
       "      <th>1</th>\n",
       "      <td>1</td>\n",
       "      <td>2</td>\n",
       "      <td>3</td>\n",
       "    </tr>\n",
       "    <tr>\n",
       "      <th>2</th>\n",
       "      <td>1</td>\n",
       "      <td>3</td>\n",
       "      <td>4</td>\n",
       "    </tr>\n",
       "    <tr>\n",
       "      <th>3</th>\n",
       "      <td>1</td>\n",
       "      <td>4</td>\n",
       "      <td>3</td>\n",
       "    </tr>\n",
       "    <tr>\n",
       "      <th>4</th>\n",
       "      <td>1</td>\n",
       "      <td>5</td>\n",
       "      <td>3</td>\n",
       "    </tr>\n",
       "  </tbody>\n",
       "</table>\n",
       "</div>"
      ],
      "text/plain": [
       "   user_id  item_id  rating\n",
       "0        1        1       5\n",
       "1        1        2       3\n",
       "2        1        3       4\n",
       "3        1        4       3\n",
       "4        1        5       3"
      ]
     },
     "metadata": {},
     "output_type": "display_data"
    },
    {
     "name": "stdout",
     "output_type": "stream",
     "text": [
      "The shape of the training data: (80000, 4)\n",
      "--------------------------------\n",
      "The test data:\n"
     ]
    },
    {
     "data": {
      "text/html": [
       "<div>\n",
       "<style scoped>\n",
       "    .dataframe tbody tr th:only-of-type {\n",
       "        vertical-align: middle;\n",
       "    }\n",
       "\n",
       "    .dataframe tbody tr th {\n",
       "        vertical-align: top;\n",
       "    }\n",
       "\n",
       "    .dataframe thead th {\n",
       "        text-align: right;\n",
       "    }\n",
       "</style>\n",
       "<table border=\"1\" class=\"dataframe\">\n",
       "  <thead>\n",
       "    <tr style=\"text-align: right;\">\n",
       "      <th></th>\n",
       "      <th>user_id</th>\n",
       "      <th>item_id</th>\n",
       "      <th>rating</th>\n",
       "    </tr>\n",
       "  </thead>\n",
       "  <tbody>\n",
       "    <tr>\n",
       "      <th>0</th>\n",
       "      <td>1</td>\n",
       "      <td>6</td>\n",
       "      <td>5</td>\n",
       "    </tr>\n",
       "    <tr>\n",
       "      <th>1</th>\n",
       "      <td>1</td>\n",
       "      <td>10</td>\n",
       "      <td>3</td>\n",
       "    </tr>\n",
       "    <tr>\n",
       "      <th>2</th>\n",
       "      <td>1</td>\n",
       "      <td>12</td>\n",
       "      <td>5</td>\n",
       "    </tr>\n",
       "    <tr>\n",
       "      <th>3</th>\n",
       "      <td>1</td>\n",
       "      <td>14</td>\n",
       "      <td>5</td>\n",
       "    </tr>\n",
       "    <tr>\n",
       "      <th>4</th>\n",
       "      <td>1</td>\n",
       "      <td>17</td>\n",
       "      <td>3</td>\n",
       "    </tr>\n",
       "  </tbody>\n",
       "</table>\n",
       "</div>"
      ],
      "text/plain": [
       "   user_id  item_id  rating\n",
       "0        1        6       5\n",
       "1        1       10       3\n",
       "2        1       12       5\n",
       "3        1       14       5\n",
       "4        1       17       3"
      ]
     },
     "metadata": {},
     "output_type": "display_data"
    },
    {
     "name": "stdout",
     "output_type": "stream",
     "text": [
      "The shape of the test data: (20000, 4)\n"
     ]
    }
   ],
   "source": [
    "# loading the training set and test set\n",
    "columns_name=['user_id','item_id','rating','timestamp']\n",
    "train_data = pd.read_csv('training.txt', sep='\\t', names=columns_name)\n",
    "test_data = pd.read_csv('test.txt', sep='\\t', names=columns_name)\n",
    "\n",
    "print(f'The training data:')\n",
    "display(train_data[['user_id','item_id','rating']].head())\n",
    "print(f'The shape of the training data: {train_data.shape}')\n",
    "print('--------------------------------')\n",
    "print(f'The test data:')\n",
    "display(test_data[['user_id','item_id','rating']].head())\n",
    "print(f'The shape of the test data: {test_data.shape}')\n",
    "# print(test_data.shape)"
   ]
  },
  {
   "cell_type": "markdown",
   "id": "75b89f3c-f785-4a36-af97-5e5d778e04f0",
   "metadata": {},
   "source": [
    "# 2) User-based collaborative filtering"
   ]
  },
  {
   "cell_type": "markdown",
   "id": "bdea3557-e95d-47b1-bf24-eae776f7933b",
   "metadata": {},
   "source": [
    "### Question 1: Implement a function that computes the Pearson Correlation between two users. "
   ]
  },
  {
   "cell_type": "markdown",
   "id": "7a692ca4-27cf-4d6b-bb92-1ce57aa551f8",
   "metadata": {},
   "source": [
    "The **Pearson correlation coefficient** between two users \\(x\\) and \\(y\\) is defined as:\n",
    "\n",
    "$$\n",
    "r_{xy} = \\frac{\\sum_{i \\in I_{xy}} (x_i - \\bar{x})(y_i - \\bar{y})}\n",
    "              {\\sqrt{\\sum_{i \\in I_{xy}} (x_i - \\bar{x})^2} \\cdot \\sqrt{\\sum_{i \\in I_{xy}} (y_i - \\bar{y})^2}}\n",
    "$$\n",
    "\n",
    "**Where:**\n",
    "\n",
    "- $I_{xy}$ = set of items rated by both users  \n",
    "- $x_i$, $y_i$ = ratings of users \\(x\\) and \\(y\\) on item \\(i\\)  \n",
    "- $\\bar{x}$, $\\bar{y}$ = mean ratings of users \\(x\\) and \\(y\\) on the common items  \n"
   ]
  },
  {
   "cell_type": "code",
   "execution_count": 3,
   "id": "9f17b4c4-3eb0-44fe-998e-dec73fba9066",
   "metadata": {},
   "outputs": [
    {
     "name": "stdout",
     "output_type": "stream",
     "text": [
      "Pearson Correlation between users 1 and 2 is 0.2697\n"
     ]
    }
   ],
   "source": [
    "def pearson_correlation(user1_ratings: pd.Series, user2_ratings: pd.Series) -> float:\n",
    "    \"\"\"\n",
    "    Compute Pearson correlation coefficient between two users' rating vectors.\n",
    "    \n",
    "    user1_ratings, user2_ratings: Pandas Series indexed by item IDs. They may contain NaN for unrated items.\n",
    "    Returns: float (correlation between -1 and 1). Returns 0 if not enough data.\n",
    "    \"\"\"\n",
    "    result = 0.0\n",
    "    \n",
    "    ############# Your code here ############\n",
    "    concat = pd.concat([user1_ratings, user2_ratings], axis=1, keys=['u1', 'u2']).dropna()\n",
    "    # Get items both have rated\n",
    "    u1 = concat['u1']\n",
    "    u2 = concat['u2']\n",
    "    mean_x = np.mean(u1)\n",
    "    mean_y = np.mean(u2)\n",
    "    u1_normalized = u1 - mean_x\n",
    "    u2_normalized = u2 - mean_y\n",
    "    numerator = np.dot(u1_normalized, u2_normalized)\n",
    "    \n",
    "    denominator = np.sqrt(np.dot(u1_normalized, u1_normalized)) * np.sqrt(np.dot(u2_normalized, u2_normalized))\n",
    "    if len(concat) < 2 or denominator == 0:\n",
    "        return 0.0\n",
    "        \n",
    "    result = numerator / denominator\n",
    "    #########################################\n",
    "    \n",
    "    return result\n",
    "\n",
    "user1, user2 = 1, 2\n",
    "user1_ratings = train_data[train_data['user_id'] == user1].set_index('item_id')['rating']\n",
    "user2_ratings = train_data[train_data['user_id'] == user2].set_index('item_id')['rating']\n",
    "print(f\"Pearson Correlation between users {user1} and {user2} is {pearson_correlation(user1_ratings, user2_ratings):.4f}\")"
   ]
  },
  {
   "cell_type": "markdown",
   "id": "93a6fe9b-fd75-4e43-84b3-b5cabeace2b5",
   "metadata": {},
   "source": [
    "### Question 2: What is the similarity value between users <8,9>. Discuss your observation."
   ]
  },
  {
   "cell_type": "code",
   "execution_count": 4,
   "id": "4d01e8c7-a6c7-454f-bb53-e66f7d959c0a",
   "metadata": {},
   "outputs": [
    {
     "name": "stdout",
     "output_type": "stream",
     "text": [
      "Pearson Correlation between users 9 and 8 is 0.0000\n"
     ]
    }
   ],
   "source": [
    "user1, user2 = 9, 8\n",
    "sim = 0.0\n",
    "\n",
    "############# Your code here ############\n",
    "user1_ratings = train_data[train_data['user_id'] == user1].set_index('item_id')['rating']\n",
    "user2_ratings = train_data[train_data['user_id'] == user2].set_index('item_id')['rating']\n",
    "sim = pearson_correlation(user1_ratings, user2_ratings)\n",
    "#########################################\n",
    "\n",
    "print(f\"Pearson Correlation between users {user1} and {user2} is {sim:.4f}\")"
   ]
  },
  {
   "cell_type": "markdown",
   "id": "43e86f5a-dd1b-4fa1-9a82-120a543788e5",
   "metadata": {},
   "source": [
    "The users have no items rated in common, thus their similarity is 0."
   ]
  },
  {
   "cell_type": "markdown",
   "id": "affa90e1-1c94-4a82-a03d-74b3a433ab1b",
   "metadata": {},
   "source": [
    "### Question 3: What is the similarity value between users <2,3>? Discuss your observation."
   ]
  },
  {
   "cell_type": "code",
   "execution_count": 5,
   "id": "400b1f63-a5d2-4711-8187-b28d0988954a",
   "metadata": {},
   "outputs": [
    {
     "name": "stdout",
     "output_type": "stream",
     "text": [
      "Pearson Correlation between users 2 and 3 is 0.0000\n"
     ]
    }
   ],
   "source": [
    "user1, user2 = 2, 3\n",
    "sim = 0.0\n",
    "\n",
    "############# Your code here ############\n",
    "user1_ratings = train_data[train_data['user_id'] == user1].set_index('item_id')['rating']\n",
    "user2_ratings = train_data[train_data['user_id'] == user2].set_index('item_id')['rating']\n",
    "sim = pearson_correlation(user1_ratings, user2_ratings)\n",
    "#########################################\n",
    "\n",
    "print(f\"Pearson Correlation between users {user1} and {user2} is {sim:.4f}\")"
   ]
  },
  {
   "cell_type": "markdown",
   "id": "daf18e6a-4a0d-41e2-a900-75a6a7c73b8f",
   "metadata": {},
   "source": [
    "This time users have rated items in common, however, for user 2 all ratings for these items are the same, thus in the normalization step by their mean rating, it becomes a zero vector, which leads to multiplications by zero, and in the end, a similarity of 0."
   ]
  },
  {
   "cell_type": "markdown",
   "id": "18187672-35e4-44dc-8c4e-01aa6b1daf81",
   "metadata": {},
   "source": [
    "### Question 4: Create the user-user similarity matrix."
   ]
  },
  {
   "cell_type": "code",
   "execution_count": 6,
   "id": "d0965d17-a82c-4f43-9478-d032a0a0c340",
   "metadata": {},
   "outputs": [
    {
     "name": "stdout",
     "output_type": "stream",
     "text": [
      "Similarity matrix creation started! This may take around 5-10 minutes...\n",
      "Running time: 474.5281 seconds\n"
     ]
    }
   ],
   "source": [
    "def compute_user_similarity_matrix(train_data: pd.DataFrame) -> pd.DataFrame:\n",
    "    \"\"\"\n",
    "    Compute user-user similarity matrix using Pearson correlation.\n",
    "    \n",
    "    Parameters:\n",
    "    - ratings: pd.DataFrame with columns ['user_id', 'item_id', 'rating']\n",
    "    \n",
    "    Returns:\n",
    "    - pd.DataFrame: user-user similarity matrix (rows & cols = user_ids)\n",
    "    \"\"\"\n",
    "    users = train_data['user_id'].unique()\n",
    "    user_similarity_matrix = pd.DataFrame(np.zeros((len(users), len(users))), index=users, columns=users)\n",
    "    \n",
    "    ############# Your code here ############\n",
    "    for user1 in users:\n",
    "        user1_ratings = train_data[train_data['user_id'] == user1].set_index('item_id')['rating']\n",
    "        rating_lists = [train_data[train_data['user_id'] == user2].set_index('item_id')['rating'] for user2 in users] \n",
    "        similarities = [pearson_correlation(user1_ratings, user2_ratings) for user2_ratings in rating_lists]\n",
    "        similarities[user1 - 1] = 0.0\n",
    "        user_similarity_matrix[user1] = similarities\n",
    "    #########################################\n",
    "    \n",
    "    return user_similarity_matrix\n",
    "\n",
    "start_time = time.time()\n",
    "print(f'Similarity matrix creation started! This may take around 5-10 minutes...')\n",
    "user_similarity_matrix = compute_user_similarity_matrix(train_data)  \n",
    "end_time = time.time()\n",
    "print(f'Running time: {end_time - start_time:.4f} seconds')"
   ]
  },
  {
   "cell_type": "markdown",
   "id": "65290a4d-c961-4cf4-b83c-dbf2fb28f9d6",
   "metadata": {},
   "source": [
    "### Question 5: Implement a function that returns k most similar users along with the similarity values to a target user."
   ]
  },
  {
   "cell_type": "code",
   "execution_count": 7,
   "id": "2a9d29e3-8535-491e-a797-10ef60f7c876",
   "metadata": {},
   "outputs": [
    {
     "name": "stdout",
     "output_type": "stream",
     "text": [
      "Neighbors of user 1 are:\n"
     ]
    },
    {
     "data": {
      "text/plain": [
       "<zip at 0x10e4ae6c0>"
      ]
     },
     "execution_count": 7,
     "metadata": {},
     "output_type": "execute_result"
    }
   ],
   "source": [
    "neighbours = {}\n",
    "\n",
    "def get_k_user_neighbors(user_similarity_matrix: pd.DataFrame, target_user, k=5):\n",
    "    \"\"\"\n",
    "    Retrieve top-k most similar users to the target user.\n",
    "\n",
    "    Parameters:\n",
    "    - user_similarity_matrix: pd.DataFrame, user-user similarity values (indexed by user IDs)\n",
    "    - target_user: user ID for whom we want neighbors\n",
    "    - k: number of neighbors to retrieve\n",
    "\n",
    "    Returns:\n",
    "    - List of tuples: [(neighbor_user_id, similarity), ...] sorted by similarity descending\n",
    "    \"\"\"\n",
    "    top_k_neighbors = []\n",
    "    \n",
    "    ############# Your code here ############\n",
    "    # if target_user not in neighbours: \n",
    "    #     sims = user_similarity_matrix.loc[:, target_user]\n",
    "    \n",
    "    #     # top-k most similar users\n",
    "    #     top_k = sims.sort_values(ascending=False).head(k)\n",
    "    #     top_k_users = top_k.index.values.tolist()\n",
    "    #     top_k_sims = top_k.values.tolist()\n",
    "    #     neighbours[target_user] = zip(top_k_users, top_k_sims)\n",
    "\n",
    "    # top_k_neighbors = neighbours[target_user]\n",
    "    sims = user_similarity_matrix.loc[:, target_user]\n",
    "    \n",
    "    # top-k most similar users\n",
    "    top_k = sims.sort_values(ascending=False).head(k)\n",
    "    top_k_users = top_k.index.values.tolist()\n",
    "    top_k_sims = top_k.values.tolist()\n",
    "    \n",
    "    top_k_neighbors = zip(top_k_users, top_k_sims)\n",
    "        \n",
    "    #########################################\n",
    "    return top_k_neighbors\n",
    "\n",
    "target_user, k = 1, 10\n",
    "print(f\"Neighbors of user {target_user} are:\")\n",
    "get_k_user_neighbors(user_similarity_matrix, target_user, k)"
   ]
  },
  {
   "cell_type": "markdown",
   "id": "f55e8623-ef96-4c86-8c63-ababc1bb0471",
   "metadata": {},
   "source": [
    "### Question 6: Implement a function that predicts the rating for a target user might give to a target item using user-user similarity matrix and the following equation."
   ]
  },
  {
   "cell_type": "markdown",
   "id": "634ed3cf-ec4a-4fbb-950f-7efefb9db329",
   "metadata": {},
   "source": [
    "The **predicted rating** for a target user \\(u\\) on item \\(i\\) using mean-centered user-based collaborative filtering is:\n",
    "\n",
    "$$\n",
    "\\hat{r}_{u,i} = \\bar{r}_u + \\frac{\\sum_{v \\in N(u)} s(u,v) \\cdot (r_{v,i} - \\bar{r}_v)}\n",
    "                             {\\sum_{v \\in N(u)} |s(u,v)|}\n",
    "$$\n",
    "\n",
    "Where:\n",
    "\n",
    "- $\\hat{r}_{u,i}$ = predicted rating for user \\(u\\) on item \\(i\\)  \n",
    "- $\\bar{r}_u$ = mean rating of the target user \\(u\\)  \n",
    "- $N(u)$ = set of top-\\(k\\) neighbors of user \\(u\\) who have rated item \\(i\\)  \n",
    "- $s(u,v)$ = similarity between users \\(u\\) and \\(v\\)  \n",
    "- $r_{v,i}$ = rating of neighbor \\(v\\) on item \\(i\\)  \n",
    "- $\\bar{r}_v$ = mean rating of neighbor \\(v\\)\n"
   ]
  },
  {
   "cell_type": "code",
   "execution_count": 8,
   "id": "5486c0d5-6404-465e-8053-41eb5055b646",
   "metadata": {},
   "outputs": [],
   "source": [
    "user_means = train_data.groupby('user_id')['rating'].mean()\n",
    "ratings_si = train_data.set_index(['user_id', 'item_id'])['rating']  # Series with MultiIndex"
   ]
  },
  {
   "cell_type": "code",
   "execution_count": 9,
   "id": "40b17d50-901b-4f0f-ac19-55732c8f2cf9",
   "metadata": {},
   "outputs": [
    {
     "name": "stdout",
     "output_type": "stream",
     "text": [
      "The actual rating for user 1 and item 17 is 3. The predicted rating by user-based CF for user 1 and item 17 is 3.4832\n"
     ]
    }
   ],
   "source": [
    "import time\n",
    "\n",
    "def predict_rating_user_based(train_data: pd.DataFrame, user_similarity_matrix: pd.DataFrame, target_user, target_item, k=5):\n",
    "    \"\"\"\n",
    "    Predict rating for target_user and target_item using mean-centered user-based CF.\n",
    "\n",
    "    Parameters:\n",
    "    - ratings: pd.DataFrame with columns ['user_id', 'item_id', 'rating']\n",
    "    - user_similarity_matrix: pd.DataFrame of user-user similarities\n",
    "    - target_user: user ID\n",
    "    - target_item: item ID\n",
    "    - k: number of neighbors to consider\n",
    "\n",
    "    Returns:\n",
    "    - float: predicted rating, or np.nan if not possible\n",
    "    \"\"\"\n",
    "    results = 0.0\n",
    "    \n",
    "    ############# Your code here ############\n",
    "    mean_rating = user_means.get(target_user, float(train_data['rating'].mean()))\n",
    "    user_ids = (train_data\n",
    "                .loc[(((train_data['item_id'] == target_item) & (train_data['rating'].notna())) |\n",
    "                      (train_data['user_id'] == target_user)), 'user_id']\n",
    "                .unique())\n",
    "\n",
    "    ids = pd.Index(user_ids).astype(user_similarity_matrix.index.dtype, copy=False)\n",
    "    keep = user_similarity_matrix.index.intersection(ids)  \n",
    "    S_small = user_similarity_matrix.loc[keep, keep].copy()\n",
    "    Nu = get_k_user_neighbors(S_small, target_user, k)\n",
    "\n",
    "    numerator = 0.0\n",
    "    denominator = 0.0\n",
    "    for v, sim in Nu:\n",
    "        if v == target_user:\n",
    "            continue\n",
    "        user_mean_rating = np.mean(train_data.loc[((train_data['user_id'] == v) & (train_data['rating'].notna())), 'rating'])\n",
    "        user_item_rating = train_data.loc[((train_data['user_id'] == v) & (train_data['item_id'] == target_item)), 'rating'].values[0]\n",
    "        numerator += sim * (user_item_rating - user_mean_rating)\n",
    "        denominator += np.abs(sim)\n",
    "    # Prevent division by 0\n",
    "    if denominator >= 1e-10:\n",
    "        results = (numerator / denominator) + mean_rating\n",
    "    else:\n",
    "        results = mean_rating\n",
    "    #########################################\n",
    "\n",
    "    return results\n",
    "\n",
    "target_user, target_item, k = 1, 17, 50\n",
    "print(f\"The actual rating for user {target_user} and item {target_item} is 3. The predicted rating by user-based CF for user {target_user} and item {target_item} is {predict_rating_user_based(train_data, user_similarity_matrix, target_user, target_item, k):.4f}\")"
   ]
  },
  {
   "cell_type": "markdown",
   "id": "a3ade2d4-c1b8-495f-b593-945c4c4984be",
   "metadata": {},
   "source": [
    "### Question 7: Implement a function that generates top-10 recommendation list for a target user using user-based CF method."
   ]
  },
  {
   "cell_type": "code",
   "execution_count": 10,
   "id": "d95314d7-fd84-4c12-a63b-61387265af44",
   "metadata": {},
   "outputs": [
    {
     "name": "stdout",
     "output_type": "stream",
     "text": [
      "Top-10 recommendations for user 1:\n",
      "Item 1290: 5.9537\n",
      "Item 1354: 5.8394\n",
      "Item 1678: 5.8030\n",
      "Item 1368: 5.2213\n",
      "Item 1467: 5.1903\n",
      "Item 1599: 5.1101\n",
      "Item 910: 5.0853\n",
      "Item 1293: 4.9567\n",
      "Item 1639: 4.9344\n",
      "Item 1642: 4.9321\n",
      "Item 1414: 4.9060\n",
      "Item 1500: 4.8958\n",
      "Item 12: 4.8365\n",
      "Item 1673: 4.8285\n",
      "Item 1680: 4.8030\n",
      "Item 313: 4.7801\n",
      "Item 853: 4.7759\n",
      "Item 913: 4.7735\n",
      "Item 1636: 4.7735\n",
      "Item 1645: 4.7735\n",
      "Item 1650: 4.7735\n",
      "Item 1651: 4.7735\n",
      "Item 172: 4.7734\n",
      "Item 793: 4.7724\n",
      "Item 408: 4.7660\n",
      "Item 867: 4.7578\n",
      "Item 1656: 4.7561\n",
      "Item 1449: 4.7286\n",
      "Item 1585: 4.7221\n",
      "Item 1391: 4.7185\n",
      "Running time: 9.6795 seconds\n"
     ]
    }
   ],
   "source": [
    "def recommend_topk_user_based(train_data, user_similarity_matrix, target_user, k=5):\n",
    "    \"\"\"\n",
    "    Generate Top-K recommendations for a target user using User-based CF.\n",
    "    \n",
    "    Args:\n",
    "        train_data (pd.DataFrame): ratings data with columns [user_id, item_id, rating]\n",
    "        user_similarity_matrix (pd.DataFrame): precomputed user-user similarity matrix\n",
    "        target_user (int): user_id of the target user\n",
    "        k (int): number of most similar neighbors to consider\n",
    "    \n",
    "    Returns:\n",
    "        list of (item_id, predicted_score) sorted by score desc\n",
    "    \"\"\"\n",
    "    result = []\n",
    "    \n",
    "    ############# Your code here ############\n",
    "    items = train_data['item_id'].unique()\n",
    "    predictions = [(item, predict_rating_user_based(train_data, user_similarity_matrix, target_user, item, k)) for item in items]\n",
    "    sorted_predictions = sorted(predictions, key=lambda x: x[1], reverse=True)\n",
    "    result = sorted_predictions[:k]\n",
    "    #########################################\n",
    "    \n",
    "    return result\n",
    "\n",
    "start_time = time.time()\n",
    "target_user, k = 1, 30\n",
    "recommendations = recommend_topk_user_based(train_data, user_similarity_matrix, target_user, k)\n",
    "print(f\"Top-10 recommendations for user {target_user}:\")\n",
    "for item, score in recommendations:\n",
    "    print(f\"Item {item}: {score:.4f}\")\n",
    "end_time = time.time()\n",
    "print(f'Running time: {end_time - start_time:.4f} seconds')"
   ]
  },
  {
   "cell_type": "markdown",
   "id": "817a8b1d-808c-4eb5-9c14-35c1dc446c0e",
   "metadata": {},
   "source": [
    "# 3) Item-based collaborative filtering"
   ]
  },
  {
   "cell_type": "markdown",
   "id": "5004d046-a823-49db-bed8-cf32fc404628",
   "metadata": {},
   "source": [
    "### Question 8: Implement a function that computes the Cosine similarity between two items. "
   ]
  },
  {
   "cell_type": "markdown",
   "id": "b4431d9d-61c8-4c51-b316-e4c8d54babf6",
   "metadata": {},
   "source": [
    "The **cosine similarity** between two items \\(i\\) and \\(j\\) is defined as:\n",
    "\n",
    "$$\n",
    "\\text{sim}(i,j) = \\frac{\\sum_{u \\in U_{ij}} r_{u,i} \\cdot r_{u,j}}\n",
    "                      {\\sqrt{\\sum_{u \\in U_{ij}} r_{u,i}^2} \\cdot \\sqrt{\\sum_{u \\in U_{ij}} r_{u,j}^2}}\n",
    "$$\n",
    "\n",
    "Where:\n",
    "\n",
    "- \\(r_{u,i}\\) = rating of user \\(u\\) on item \\(i\\)  \n",
    "- \\(r_{u,j}\\) = rating of user \\(u\\) on item \\(j\\)  \n",
    "- \\(U_{ij}\\) = set of users who have rated both items \\(i\\) and \\(j\\)  \n"
   ]
  },
  {
   "cell_type": "code",
   "execution_count": 11,
   "id": "4d3e9d3d-2347-4f87-80a7-d6129a7fa7a7",
   "metadata": {},
   "outputs": [
    {
     "name": "stdout",
     "output_type": "stream",
     "text": [
      "Cosine similarity between items 1 and 2 is 0.9500\n"
     ]
    }
   ],
   "source": [
    "def cosine_similarity(item1_ratings: pd.Series, item2_ratings: pd.Series) -> float:\n",
    "    \"\"\"\n",
    "    Compute cosine similarity between two items' rating vectors.\n",
    "    Only common users are considered.\n",
    "    \n",
    "    Parameters:\n",
    "    - item1_ratings, item2_ratings: pd.Series indexed by user_id\n",
    "    \n",
    "    Returns:\n",
    "    - float: cosine similarity between -1 and 1\n",
    "    \"\"\"\n",
    "    result = 0.0\n",
    "    \n",
    "    ############# Your code here ############\n",
    "    concat = pd.concat([item1_ratings, item2_ratings], axis=1, keys=['i1', 'i2']).dropna()\n",
    "    i1 = concat['i1']\n",
    "    i2 = concat['i2']\n",
    "    numerator = np.dot(i1, i2)\n",
    "    denominator = np.sqrt(np.dot(i1, i1)) * np.sqrt(np.dot(i2, i2))\n",
    "    if (denominator >= 0.0000000001):\n",
    "        result = numerator / denominator\n",
    "    else:\n",
    "        result = 0\n",
    "    #########################################\n",
    "\n",
    "    return result\n",
    "\n",
    "item1, item2 = 1, 2\n",
    "item1_ratings = train_data[train_data['item_id'] == item1].set_index('user_id')['rating']\n",
    "item2_ratings = train_data[train_data['item_id'] == item2].set_index('user_id')['rating']\n",
    "print(f\"Cosine similarity between items {item1} and {item2} is {cosine_similarity(item1_ratings, item2_ratings):.4f}\")"
   ]
  },
  {
   "cell_type": "markdown",
   "id": "2fb85cd0-d13f-4e40-a685-4e591b307190",
   "metadata": {},
   "source": [
    "### Question 9: Create the item-item similarity matrix."
   ]
  },
  {
   "cell_type": "code",
   "execution_count": 12,
   "id": "3ff4eead-d1c5-4eab-bca3-a909ddccaf34",
   "metadata": {},
   "outputs": [
    {
     "name": "stdout",
     "output_type": "stream",
     "text": [
      "Running time: 526.6974 seconds\n"
     ]
    }
   ],
   "source": [
    "def compute_item_similarity_matrix(train_data: pd.DataFrame) -> pd.DataFrame:\n",
    "    \"\"\"\n",
    "    Compute item-item similarity matrix using cosine similarity.\n",
    "    \n",
    "    Parameters:\n",
    "    - ratings: pd.DataFrame with columns ['user_id', 'item_id', 'rating']\n",
    "    \n",
    "    Returns:\n",
    "    - pd.DataFrame: item-item similarity matrix (rows & cols = item_ids)\n",
    "    \"\"\"\n",
    "    items = train_data['item_id'].unique()\n",
    "    item_similarity_matrix = pd.DataFrame(np.zeros((len(items), len(items))), index=items, columns=items)\n",
    "    \n",
    "    ############# Your code here ############\n",
    "    by_item = {iid: grp.set_index('user_id')['rating'] for iid, grp in train_data.groupby('item_id')}\n",
    "\n",
    "    # Use a fixed item order (matches your preallocated matrix labels)\n",
    "    item_list = list(item_similarity_matrix.index)\n",
    "    \n",
    "    # Fill only the upper triangle and mirror it (half the work)\n",
    "    for i, item1 in enumerate(item_list):\n",
    "        item_similarity_matrix.loc[item1, item1] = 0.0  # no self-recommendation\n",
    "        r1 = by_item[item1]\n",
    "        for j in range(i + 1, len(item_list)):\n",
    "            item2 = item_list[j]\n",
    "            r2 = by_item[item2]\n",
    "            s = cosine_similarity(r1, r2)\n",
    "            item_similarity_matrix.loc[item1, item2] = s\n",
    "            item_similarity_matrix.loc[item2, item1] = s\n",
    "    #########################################\n",
    "    \n",
    "    return item_similarity_matrix\n",
    "\n",
    "start_time = time.time()\n",
    "item_similarity_matrix = compute_item_similarity_matrix(train_data)  \n",
    "end_time = time.time()\n",
    "print(f'Running time: {end_time - start_time:.4f} seconds')"
   ]
  },
  {
   "cell_type": "markdown",
   "id": "56f8578e-a1c3-48df-80e4-ee54a8a1c846",
   "metadata": {},
   "source": [
    "### Question 10: Implement a function that returns k most similar item along with the similarity values to a target item."
   ]
  },
  {
   "cell_type": "code",
   "execution_count": 13,
   "id": "0b7a7bd5-52c7-4f97-982e-226c348485d9",
   "metadata": {},
   "outputs": [
    {
     "name": "stdout",
     "output_type": "stream",
     "text": [
      "Neighbors of item 1 are:\n"
     ]
    },
    {
     "data": {
      "text/plain": [
       "<zip at 0x10f76afc0>"
      ]
     },
     "execution_count": 13,
     "metadata": {},
     "output_type": "execute_result"
    }
   ],
   "source": [
    "def get_k_item_neighbors(item_similarity_matrix: pd.DataFrame, target_item, k=5):\n",
    "    \"\"\"\n",
    "    Retrieve top-k most similar items to the target item.\n",
    "    \n",
    "    Parameters:\n",
    "    - item_similarity_matrix: pd.DataFrame, item-item similarity\n",
    "    - target_item: item ID\n",
    "    - k: number of neighbors\n",
    "    \n",
    "    Returns:\n",
    "    - List of tuples: [(neighbor_item_id, similarity), ...]\n",
    "    \"\"\"\n",
    "    top_k_neighbors = []\n",
    "\n",
    "    ############# Your code here ############\n",
    "    if (target_item not in item_similarity_matrix.columns\n",
    "        and target_item not in item_similarity_matrix.index):\n",
    "        return []\n",
    "        \n",
    "    sims = item_similarity_matrix.loc[:, target_item]\n",
    "    sims = sims.drop(target_item, errors='ignore')\n",
    "\n",
    "    # top-k most similar users\n",
    "    top_k = sims.sort_values(ascending=False).head(k)\n",
    "    top_k_items = top_k.index.values.tolist()\n",
    "    top_k_sims = top_k.values.tolist()\n",
    "    top_k_neighbors = zip(top_k_items, top_k_sims)\n",
    "    #########################################\n",
    "    \n",
    "    return top_k_neighbors\n",
    "\n",
    "target_item, k = 1, 10\n",
    "print(f\"Neighbors of item {target_item} are:\")\n",
    "get_k_item_neighbors(item_similarity_matrix, target_item, k)"
   ]
  },
  {
   "cell_type": "markdown",
   "id": "bc6ab134-7998-40b5-a1c4-f4689b77f0c2",
   "metadata": {},
   "source": [
    "### Question 11: Implement a function that predicts the rating for a target user might give to a target item using item-item similarity matrix and the following equation."
   ]
  },
  {
   "cell_type": "markdown",
   "id": "fce27fdf-ee88-4031-8f1a-7d9f3c567eb1",
   "metadata": {},
   "source": [
    "The **predicted rating** for a target user \\(u\\) on a target item \\(i\\) using item-based collaborative filtering is:\n",
    "\n",
    "$$\n",
    "\\hat{r}_{u,i} = \\frac{\\sum_{j \\in N(i)} s(i,j) \\cdot r_{u,j}}{\\sum_{j \\in N(i)} |s(i,j)|}\n",
    "$$\n",
    "\n",
    "Where:\n",
    "\n",
    "- \\(\\hat{r}_{u,i}\\) = predicted rating of user \\(u\\) on item \\(i\\)  \n",
    "- \\(N(i)\\) = set of top-\\(k\\) most similar items to item \\(i\\) that user \\(u\\) has rated  \n",
    "- \\(s(i,j)\\) = similarity between item \\(i\\) and item \\(j\\)  \n",
    "- \\(r_{u,j}\\) = rating of user \\(u\\) on item \\(j\\)  \n"
   ]
  },
  {
   "cell_type": "code",
   "execution_count": 14,
   "id": "94860413-1ead-435f-8f44-6f6cf36f55d1",
   "metadata": {},
   "outputs": [
    {
     "name": "stdout",
     "output_type": "stream",
     "text": [
      "The actual rating for user 1 and item 17 is 3. The predicted rating by item-based CF for user 1 and item 17 is 3.5321\n"
     ]
    }
   ],
   "source": [
    "def predict_rating_item_based(train_data: pd.DataFrame, item_similarity_matrix: pd.DataFrame, target_user, target_item, k=5):\n",
    "    \"\"\"\n",
    "    Predict rating using item-based CF (non-mean centric).\n",
    "    \n",
    "    Parameters:\n",
    "    - ratings: pd.DataFrame ['user_id', 'item_id', 'rating']\n",
    "    - item_similarity_matrix: item-item similarity DataFrame\n",
    "    - target_user: user ID\n",
    "    - target_item: item ID\n",
    "    - k: number of neighbors to use\n",
    "    \n",
    "    Returns:\n",
    "    - float: predicted rating, or np.nan if not enough data\n",
    "    \"\"\"\n",
    "    result = 0.0\n",
    "\n",
    "    ############# Your code here ############\n",
    "    item_ids = (train_data\n",
    "            .loc[(((train_data['user_id'] == target_user) & (train_data['rating'].notna())) | (train_data['item_id'] == target_item)), 'item_id']\n",
    "            .unique())\n",
    "    ids = pd.Index(item_ids).astype(item_similarity_matrix.index.dtype, copy=False)\n",
    "    keep = item_similarity_matrix.index.intersection(ids)  \n",
    "    S_small = item_similarity_matrix.loc[keep, keep].copy()\n",
    "    Ni = get_k_item_neighbors(S_small, target_item, k)\n",
    "    sims = []\n",
    "    js = []\n",
    "    for j, sim in Ni:\n",
    "        if j == target_item:\n",
    "            continue\n",
    "        sims.append(sim)\n",
    "        js.append(j)\n",
    "    ratings = []\n",
    "    for j in js:\n",
    "        # print(f\"item: {j}, target: {target_item}\")\n",
    "        # print(f\"ratings: {train_data.loc[((train_data['user_id'] == target_user) & (train_data['item_id'] == j)), 'rating']}\")\n",
    "        rating = train_data.loc[((train_data['user_id'] == target_user) & (train_data['item_id'] == j)), 'rating'].values[0] \n",
    "        ratings.append(rating)\n",
    "    numerator = np.dot(sims, ratings)\n",
    "    denominator = np.sum(np.abs(sims))\n",
    "    \n",
    "    epsilon = 0.000001\n",
    "    if denominator >= epsilon or denominator <= -epsilon:\n",
    "        result = numerator / denominator\n",
    "    else:\n",
    "        result = 0.0\n",
    "    #########################################\n",
    "    \n",
    "    return result\n",
    "\n",
    "target_user, target_item, k = 1, 17, 50\n",
    "print(f\"The actual rating for user {target_user} and item {target_item} is 3. The predicted rating by item-based CF for user {target_user} and item {target_item} is {predict_rating_item_based(train_data, item_similarity_matrix, target_user, target_item, k):.4f}\")"
   ]
  },
  {
   "cell_type": "markdown",
   "id": "7fb4ef15-5780-4654-b5f3-3add75a26e62",
   "metadata": {},
   "source": [
    "### Question 12: Implement a function that generates top-10 recommendation list for a target user using item-based CF method."
   ]
  },
  {
   "cell_type": "code",
   "execution_count": 15,
   "id": "8d71aecc-6d94-4929-a146-3e448fb28d09",
   "metadata": {},
   "outputs": [
    {
     "name": "stdout",
     "output_type": "stream",
     "text": [
      "Top-10 recommendations for user 1:\n",
      "Item 1342: 5.0000\n",
      "Item 1414: 4.7500\n",
      "Item 1259: 4.5332\n",
      "Item 1354: 4.5000\n",
      "Item 1654: 4.4375\n",
      "Item 1618: 4.4000\n",
      "Item 1500: 4.4000\n",
      "Item 127: 4.3803\n",
      "Item 55: 4.3599\n",
      "Item 89: 4.3593\n",
      "Item 198: 4.3571\n",
      "Item 1332: 4.3529\n",
      "Item 1234: 4.3481\n",
      "Item 223: 4.3372\n",
      "Item 1347: 4.3276\n",
      "Item 191: 4.2787\n",
      "Item 868: 4.2604\n",
      "Item 111: 4.2593\n",
      "Item 70: 4.2585\n",
      "Item 194: 4.2560\n",
      "Item 1674: 4.2500\n",
      "Item 1678: 4.2500\n",
      "Item 1679: 4.2500\n",
      "Item 1680: 4.2500\n",
      "Item 195: 4.2393\n",
      "Item 28: 4.2378\n",
      "Item 87: 4.2376\n",
      "Item 178: 4.2351\n",
      "Item 207: 4.2292\n",
      "Item 1597: 4.2205\n",
      "Item 1447: 4.2200\n",
      "Item 1450: 4.2200\n",
      "Item 1452: 4.2200\n",
      "Item 1453: 4.2200\n",
      "Item 1460: 4.2200\n",
      "Item 1461: 4.2200\n",
      "Item 270: 4.2179\n",
      "Item 1360: 4.2069\n",
      "Item 1593: 4.2069\n",
      "Item 50: 4.2027\n",
      "Item 1677: 4.2000\n",
      "Item 174: 4.1993\n",
      "Item 1: 4.1986\n",
      "Item 269: 4.1985\n",
      "Item 64: 4.1975\n",
      "Item 13: 4.1961\n",
      "Item 172: 4.1819\n",
      "Item 177: 4.1802\n",
      "Item 1656: 4.1800\n",
      "Item 357: 4.1797\n"
     ]
    }
   ],
   "source": [
    "def recommend_topk_item_based(train_data, item_similarity_matrix, target_user, k=5):\n",
    "    \"\"\"\n",
    "    Generate Top-K recommendations for a target user using Item-based CF.\n",
    "    \n",
    "    Args:\n",
    "        train_data (pd.DataFrame): ratings data with columns [user_id, item_id, rating]\n",
    "        item_similarity_matrix (pd.DataFrame): precomputed item-item similarity matrix\n",
    "        target_user (int): user_id of the target user\n",
    "        k (int): number of items to recommend\n",
    "    \n",
    "    Returns:\n",
    "        list of (item_id, predicted_score) sorted by score desc\n",
    "    \"\"\"\n",
    "    result = []\n",
    "\n",
    "    ############# Your code here ############\n",
    "    items = train_data['item_id'].unique()\n",
    "    predictions = [(item, predict_rating_item_based(train_data, item_similarity_matrix, target_user, item, k)) for item in items]\n",
    "    sorted_predictions = sorted(predictions, key=lambda x: x[1], reverse=True)\n",
    "    result = sorted_predictions[:k]\n",
    "    #########################################\n",
    "    \n",
    "    return result\n",
    "\n",
    "target_user, k = 1, 50\n",
    "recommendations = recommend_topk_item_based(train_data, item_similarity_matrix, target_user, k)\n",
    "print(f\"Top-10 recommendations for user {target_user}:\")\n",
    "for item, score in recommendations:\n",
    "    print(f\"Item {item}: {score:.4f}\")"
   ]
  },
  {
   "cell_type": "markdown",
   "id": "9645ad32-55b7-497d-b3f9-9b16fc01e483",
   "metadata": {},
   "source": [
    "# 3) Matrix Factorization (MF)"
   ]
  },
  {
   "cell_type": "markdown",
   "id": "4978d85d-260e-492b-8b7d-3e8fecd53c8e",
   "metadata": {},
   "source": [
    "For details about matrix factorization algorithm see the lecture in week 3.\n",
    "\n",
    "Matrix factorization algorithm is implemented in the next cell. Run the following cell and then use it to build MF model for running experiments."
   ]
  },
  {
   "cell_type": "code",
   "execution_count": null,
   "id": "480b9a63-2899-4e88-bb5f-0a96541180a8",
   "metadata": {},
   "outputs": [],
   "source": [
    "class MatrixFactorizationSGD:\n",
    "    \"\"\"\n",
    "    Matrix Factorization for rating prediction using Stochastic Gradient Descent (SGD).\n",
    "    \n",
    "    Rating matrix R ≈ P × Q^T + biases\n",
    "    \"\"\"\n",
    "    def __init__(self, n_factors=20, learning_rate=0.01, regularization=0.02, n_epochs=20, use_bias=True):\n",
    "        self.n_factors = n_factors\n",
    "        self.learning_rate = learning_rate\n",
    "        self.regularization = regularization\n",
    "        self.n_epochs = n_epochs\n",
    "        self.use_bias = use_bias\n",
    "\n",
    "        # Model parameters\n",
    "        self.P = None  # User latent factors\n",
    "        self.Q = None  # Item latent factors\n",
    "        self.user_bias = None\n",
    "        self.item_bias = None\n",
    "        self.global_mean = None\n",
    "\n",
    "    def fit(self, ratings, verbose=True):\n",
    "        \"\"\"\n",
    "        Train the model.\n",
    "        \n",
    "        Args:\n",
    "            ratings (pd.DataFrame): dataframe with [user_id, item_id, rating]\n",
    "        \"\"\"\n",
    "        # Map IDs to indices\n",
    "        self.user_mapping = {u: i for i, u in enumerate(ratings['user_id'].unique())}\n",
    "        self.item_mapping = {i: j for j, i in enumerate(ratings['item_id'].unique())}\n",
    "        self.user_inv = {i: u for u, i in self.user_mapping.items()}\n",
    "        self.item_inv = {j: i for i, j in self.item_mapping.items()}\n",
    "\n",
    "        n_users = len(self.user_mapping)\n",
    "        n_items = len(self.item_mapping)\n",
    "\n",
    "        # Initialize factors\n",
    "        self.P = np.random.normal(0, 0.1, (n_users, self.n_factors))\n",
    "        self.Q = np.random.normal(0, 0.1, (n_items, self.n_factors))\n",
    "\n",
    "        if self.use_bias:\n",
    "            self.user_bias = np.zeros(n_users)\n",
    "            self.item_bias = np.zeros(n_items)\n",
    "            self.global_mean = ratings['rating'].mean()\n",
    "\n",
    "        # Convert to (user_idx, item_idx, rating) triples\n",
    "        training_data = [(self.user_mapping[u], self.item_mapping[i], r)\n",
    "                         for u, i, r in zip(ratings['user_id'], ratings['item_id'], ratings['rating'])]\n",
    "\n",
    "        # SGD loop\n",
    "        for epoch in range(self.n_epochs):\n",
    "            np.random.shuffle(training_data)\n",
    "            total_error = 0\n",
    "\n",
    "            for u, i, r in training_data:\n",
    "                pred = np.dot(self.P[u], self.Q[i])\n",
    "                if self.use_bias:\n",
    "                    pred += self.global_mean + self.user_bias[u] + self.item_bias[i]\n",
    "\n",
    "                err = r - pred\n",
    "                total_error += err ** 2\n",
    "\n",
    "                # Updates\n",
    "                P_u = self.P[u]\n",
    "                Q_i = self.Q[i]\n",
    "\n",
    "                self.P[u] += self.learning_rate * (err * Q_i - self.regularization * P_u)\n",
    "                self.Q[i] += self.learning_rate * (err * P_u - self.regularization * Q_i)\n",
    "\n",
    "                if self.use_bias:\n",
    "                    self.user_bias[u] += self.learning_rate * (err - self.regularization * self.user_bias[u])\n",
    "                    self.item_bias[i] += self.learning_rate * (err - self.regularization * self.item_bias[i])\n",
    "\n",
    "            rmse = np.sqrt(total_error / len(training_data))\n",
    "            if verbose:\n",
    "                print(f\"Epoch {epoch+1}/{self.n_epochs} - RMSE: {rmse:.4f}\")\n",
    "\n",
    "        return self\n",
    "\n",
    "    def predict_single(self, user_id, item_id):\n",
    "        \"\"\"Predict rating for a single (user, item) pair\"\"\"\n",
    "        if user_id not in self.user_mapping or item_id not in self.item_mapping:\n",
    "            return np.nan\n",
    "\n",
    "        u = self.user_mapping[user_id]\n",
    "        i = self.item_mapping[item_id]\n",
    "\n",
    "        pred = np.dot(self.P[u], self.Q[i])\n",
    "        if self.use_bias:\n",
    "            pred += self.global_mean + self.user_bias[u] + self.item_bias[i]\n",
    "        return pred\n",
    "\n",
    "    def predict(self, test_data):\n",
    "        \"\"\"Predict ratings for a test dataframe with [user_id, item_id]\"\"\"\n",
    "        preds = []\n",
    "        for u, i in zip(test_data['user_id'], test_data['item_id']):\n",
    "            preds.append(self.predict_single(u, i))\n",
    "        return np.array(preds)\n",
    "\n",
    "    def recommend_topk(self, user_id, train_data, n=10, exclude_seen=True):\n",
    "        \"\"\"\n",
    "        Generate Top-K recommendations for a given user.\n",
    "\n",
    "        Args:\n",
    "            user_id (int): target user ID (original ID, not index).\n",
    "            train_data (pd.DataFrame): training ratings [user_id, item_id, rating],\n",
    "                                       used to exclude already-seen items.\n",
    "            k (int): number of recommendations.\n",
    "            exclude_seen (bool): whether to exclude items the user already rated.\n",
    "\n",
    "        Returns:\n",
    "            list of (item_id, predicted_score) sorted by score desc.\n",
    "        \"\"\"\n",
    "        if user_id not in self.user_mapping:\n",
    "            return []\n",
    "\n",
    "        u = self.user_mapping[user_id]\n",
    "\n",
    "        # Predict scores for all items\n",
    "        scores = np.dot(self.P[u], self.Q.T)\n",
    "        if self.use_bias:\n",
    "            scores += self.global_mean + self.user_bias[u] + self.item_bias\n",
    "\n",
    "        # Exclude seen items\n",
    "        if exclude_seen:\n",
    "            seen_items = train_data[train_data['user_id'] == user_id]['item_id'].values\n",
    "            seen_idx = [self.item_mapping[i] for i in seen_items if i in self.item_mapping]\n",
    "            scores[seen_idx] = -np.inf\n",
    "\n",
    "        # Get top-K items\n",
    "        top_idx = np.argsort(scores)[::-1][:n]\n",
    "        top_items = [self.item_inv[i] for i in top_idx]\n",
    "        top_scores = scores[top_idx]\n",
    "\n",
    "        return list(zip(top_items, top_scores))"
   ]
  },
  {
   "cell_type": "markdown",
   "id": "42e6ec43-8c71-4c30-9599-b52a3fdabcfe",
   "metadata": {},
   "source": [
    "#### Sample usage for rating prediction task:"
   ]
  },
  {
   "cell_type": "code",
   "execution_count": 17,
   "id": "4397fe25-e8be-4ad6-966a-398f5588f12c",
   "metadata": {},
   "outputs": [
    {
     "name": "stdout",
     "output_type": "stream",
     "text": [
      "Epoch 1/10 - RMSE: 1.0965\n",
      "Epoch 2/10 - RMSE: 1.0573\n",
      "Epoch 3/10 - RMSE: 1.0312\n",
      "Epoch 4/10 - RMSE: 1.0125\n",
      "Epoch 5/10 - RMSE: 0.9984\n",
      "Epoch 6/10 - RMSE: 0.9873\n",
      "Epoch 7/10 - RMSE: 0.9783\n",
      "Epoch 8/10 - RMSE: 0.9708\n",
      "Epoch 9/10 - RMSE: 0.9645\n",
      "Epoch 10/10 - RMSE: 0.9590\n",
      "The actual rating for user 1 and item 17 is 3. The predicted rating by MF for user 1 and item 17 is 3.4983\n"
     ]
    }
   ],
   "source": [
    "# Train model \n",
    "# Parameters: n_factors refers to embedding size, n_epochs refers to number of epochs, learning_rate refers to learning rate, and regularization refers to lambda hyperparameter controlling the effect of regularization terms\n",
    "mf = MatrixFactorizationSGD(n_factors=50, n_epochs=10, learning_rate=0.001, regularization=0.001)\n",
    "mf.fit(train_data, verbose=True)\n",
    "\n",
    "# predict the rating for a target user and a target item\n",
    "target_user = 1\n",
    "target_item = 17\n",
    "actual_rating = 3\n",
    "pred_rating = mf.predict_single(target_user, target_item)\n",
    "print(f\"The actual rating for user {target_user} and item {target_item} is 3. The predicted rating by MF for user {target_user} and item {target_item} is {pred_rating:.4f}\")"
   ]
  },
  {
   "cell_type": "markdown",
   "id": "376ae6f1-3ada-4693-b6c2-0a0f449e0883",
   "metadata": {},
   "source": [
    "#### Sample usage for ranking task:"
   ]
  },
  {
   "cell_type": "code",
   "execution_count": 18,
   "id": "1e3faae4-684a-4389-b14a-8d9b157c3b85",
   "metadata": {},
   "outputs": [
    {
     "name": "stdout",
     "output_type": "stream",
     "text": [
      "Epoch 1/10 - RMSE: 1.0944\n",
      "Epoch 2/10 - RMSE: 1.0560\n",
      "Epoch 3/10 - RMSE: 1.0306\n",
      "Epoch 4/10 - RMSE: 1.0126\n",
      "Epoch 5/10 - RMSE: 0.9992\n",
      "Epoch 6/10 - RMSE: 0.9889\n",
      "Epoch 7/10 - RMSE: 0.9806\n",
      "Epoch 8/10 - RMSE: 0.9738\n",
      "Epoch 9/10 - RMSE: 0.9682\n",
      "Epoch 10/10 - RMSE: 0.9634\n",
      "Top-10 Recommendations for user 1:\n",
      "Item 64: 4.4136\n",
      "Item 483: 4.4110\n",
      "Item 318: 4.3957\n",
      "Item 12: 4.3777\n",
      "Item 313: 4.3221\n",
      "Item 98: 4.2959\n",
      "Item 427: 4.2894\n",
      "Item 357: 4.2575\n",
      "Item 603: 4.2419\n",
      "Item 174: 4.2418\n"
     ]
    }
   ],
   "source": [
    "# Train model \n",
    "# Parameters: n_factors refers to embedding size, n_epochs refers to number of epochs, learning_rate refers to learning rate, and regularization refers to lambda hyperparameter controlling the effect of regularization terms\n",
    "mf = MatrixFactorizationSGD(n_factors=10, n_epochs=10, learning_rate=0.001, regularization=0.001)\n",
    "mf.fit(train_data, verbose=True)\n",
    "\n",
    "# Get top-10 recommendations for user 1\n",
    "recommendations = mf.recommend_topk(user_id=1, train_data=train_data, n=10)\n",
    "print(\"Top-10 Recommendations for user 1:\")\n",
    "for item, score in recommendations:\n",
    "    print(f\"Item {item}: {score:.4f}\")"
   ]
  },
  {
   "cell_type": "markdown",
   "id": "ca8f13da-23b2-43ca-97e4-9f7af8268311",
   "metadata": {},
   "source": [
    "# 4) Evaluation of user-based, item-based, and MF models for rating prediction task"
   ]
  },
  {
   "cell_type": "markdown",
   "id": "4f07e8bc-b852-4949-9de0-95ef1e8a33f6",
   "metadata": {},
   "source": [
    "### Question 13: What is the performance of user-based CF in terms of RMSE for k=50?"
   ]
  },
  {
   "cell_type": "code",
   "execution_count": 19,
   "id": "6844f8ae-4aba-47fd-80e1-c987d563517c",
   "metadata": {},
   "outputs": [],
   "source": [
    "from sklearn.metrics import mean_squared_error\n",
    "\n",
    "def RMSE(ground_truth: [float], predictions: [float]) -> float:\n",
    "    return mean_squared_error(ground_truth, predictions)"
   ]
  },
  {
   "cell_type": "code",
   "execution_count": 20,
   "id": "5df5e4cc-a178-4292-95d8-18af5271215e",
   "metadata": {},
   "outputs": [
    {
     "name": "stdout",
     "output_type": "stream",
     "text": [
      "RMSE of user-based CF for k=50 is 0.9361\n",
      "Running time: 264.8241 seconds\n"
     ]
    }
   ],
   "source": [
    "def evaluate_user_cf_rating_prediction(train_data: pd.DataFrame, test_data: pd.DataFrame, user_similarity_matrix: pd.DataFrame, k=5) -> float:\n",
    "    \"\"\"\n",
    "    Evaluate user-based CF using RMSE on a test set.\n",
    "    \n",
    "    Parameters:\n",
    "    - train_data: pd.DataFrame with ['user_id', 'item_id', 'rating'] used for training\n",
    "    - test_data: pd.DataFrame with ['user_id', 'item_id', 'rating'] used for testing\n",
    "    - user_similarity_matrix: user-user similarity matrix (computed from train set)\n",
    "    - k: number of neighbors\n",
    "    \n",
    "    Returns:\n",
    "    - float: RMSE value\n",
    "    \"\"\"\n",
    "    result = 0.0\n",
    "\n",
    "    ############# Your code here ############\n",
    "    start_time = time.time()\n",
    "    predicted = test_data[['user_id', 'item_id']].apply(lambda x : predict_rating_user_based(train_data, user_similarity_matrix, x['user_id'], x['item_id'], k), axis=1).values\n",
    "    end_time = time.time()\n",
    "    gt = test_data['rating'].values\n",
    "    rmse = RMSE(gt, predicted)\n",
    "    result = rmse\n",
    "    #########################################\n",
    "\n",
    "    return result\n",
    "\n",
    "k = 50\n",
    "start_time = time.time()\n",
    "print(f\"RMSE of user-based CF for k={k} is {evaluate_user_cf_rating_prediction(train_data, test_data, user_similarity_matrix, k):.4f}\")\n",
    "end_time = time.time()\n",
    "print(f'Running time: {end_time - start_time:.4f} seconds')"
   ]
  },
  {
   "cell_type": "markdown",
   "id": "2e8fe066-71d1-41ca-9fb9-548d6f190252",
   "metadata": {},
   "source": [
    "### Question 14: Can you further improve the performance of user-based CF? Tune user-based CF with k={10, 30, 50, 70, 100} and visualize the performance with k values in x-axis and corresponding RMSE values in y-axis."
   ]
  },
  {
   "cell_type": "code",
   "execution_count": 21,
   "id": "7cd63574-be1a-4a5d-9efd-8ad812d739f7",
   "metadata": {},
   "outputs": [
    {
     "data": {
      "image/png": "[encoded data removed]",
      "text/plain": [
       "<Figure size 800x500 with 1 Axes>"
      ]
     },
     "metadata": {},
     "output_type": "display_data"
    },
    {
     "name": "stdout",
     "output_type": "stream",
     "text": [
      "Running time: 1314.8316 seconds\n"
     ]
    }
   ],
   "source": [
    "K = [10,30,50,70,100]\n",
    "user_based_RMSEs = []\n",
    "\n",
    "start_time = time.time()\n",
    "\n",
    "############# Your code here ############\n",
    "user_based_RMSEs = [evaluate_user_cf_rating_prediction(train_data, test_data, user_similarity_matrix, k) for k in K]\n",
    "\n",
    "plt.figure(figsize=(8, 5))\n",
    "plt.plot(K, user_based_RMSEs, marker='o', linestyle='-', linewidth=2)\n",
    "plt.title(\"User-Based CF: RMSE vs Number of Neighbors (K)\")\n",
    "plt.xlabel(\"Number of Neighbors (K)\")\n",
    "plt.ylabel(\"RMSE\")\n",
    "plt.grid(True)\n",
    "plt.xticks(K)\n",
    "plt.show()\n",
    "#########################################\n",
    "\n",
    "end_time = time.time()\n",
    "print(f'Running time: {end_time - start_time:.4f} seconds')"
   ]
  },
  {
   "cell_type": "markdown",
   "id": "029849df-67eb-41ca-a16c-4c6d99176cdd",
   "metadata": {},
   "source": [
    "Discuss your observations."
   ]
  },
  {
   "cell_type": "markdown",
   "id": "e89c1cfa-e3d8-4769-8c9f-3704887ae560",
   "metadata": {},
   "source": [
    "From the graph we see that first as the number of neighbors considered increases, the error gets smaller. I hypothesize this to be because the amount of information that can be taken from more neighbors increases. However, when K reaches a certain point, the error increases slightly again, possibly indicating that irrelevant information is added from the added neighbors (they are not similar enough to the user)."
   ]
  },
  {
   "cell_type": "markdown",
   "id": "edfbae5d-ba95-420c-a8af-875cfd708a7f",
   "metadata": {},
   "source": [
    "### Question 15: What is the performance of item-based CF in terms of RMSE for k=50?"
   ]
  },
  {
   "cell_type": "code",
   "execution_count": 22,
   "id": "14754082-92f1-481f-9fc0-a95ad79210e6",
   "metadata": {},
   "outputs": [
    {
     "name": "stdout",
     "output_type": "stream",
     "text": [
      "RMSE of user-based CF for k=50 is 1.1004\n",
      "Running time: 118.0783 seconds\n"
     ]
    }
   ],
   "source": [
    "def evaluate_item_cf_rating_prediction(train_data: pd.DataFrame, test_data: pd.DataFrame, item_similarity_matrix: pd.DataFrame, k=5) -> float:\n",
    "    \"\"\"\n",
    "    Evaluate item-based CF using RMSE on a test set.\n",
    "    \n",
    "    Parameters:\n",
    "    - train_data: pd.DataFrame with ['user_id', 'item_id', 'rating'] used for training\n",
    "    - test_data: pd.DataFrame with ['user_id', 'item_id', 'rating'] used for testing\n",
    "    - item_similarity_matrix: item-item similarity matrix (computed from train set)\n",
    "    - k: number of neighbors\n",
    "    \n",
    "    Returns:\n",
    "    - float: RMSE value\n",
    "    \"\"\"\n",
    "    result = 0.0\n",
    "\n",
    "    ############# Your code here ############\n",
    "    predicted = test_data[['user_id', 'item_id']].apply(lambda x : predict_rating_item_based(train_data, item_similarity_matrix, x['user_id'], x['item_id'], k), axis=1).values\n",
    "    gt = test_data['rating'].values\n",
    "    rmse = RMSE(gt, predicted)\n",
    "    result = rmse\n",
    "    #########################################\n",
    "\n",
    "    return result\n",
    "\n",
    "k = 50\n",
    "start_time = time.time()\n",
    "print(f\"RMSE of user-based CF for k={k} is {evaluate_item_cf_rating_prediction(train_data, test_data, item_similarity_matrix, k):.4f}\")\n",
    "end_time = time.time()\n",
    "print(f'Running time: {end_time - start_time:.4f} seconds')"
   ]
  },
  {
   "cell_type": "markdown",
   "id": "21fae41c-1f97-44d4-a97b-13bc9e0fb609",
   "metadata": {},
   "source": [
    "### Question 16: Can you further improve the performance of item-based CF? Tune item-based CF with k={10, 30, 50, 70, 100} and visualize the performance with k values in x-axis and corresponding RMSE values in y-axis."
   ]
  },
  {
   "cell_type": "code",
   "execution_count": 23,
   "id": "b249510a-b64c-4566-92a5-fbba9e3083df",
   "metadata": {},
   "outputs": [
    {
     "data": {
      "image/png": "[encoded data removed]",
      "text/plain": [
       "<Figure size 800x500 with 1 Axes>"
      ]
     },
     "metadata": {},
     "output_type": "display_data"
    },
    {
     "name": "stdout",
     "output_type": "stream",
     "text": [
      "Running time: 635.6537 seconds\n"
     ]
    }
   ],
   "source": [
    "K = [10,30,50,70,100]\n",
    "item_based_RMSEs = []\n",
    "\n",
    "start_time = time.time()\n",
    "\n",
    "############# Your code here ############\n",
    "item_based_RMSEs = [evaluate_item_cf_rating_prediction(train_data, test_data, item_similarity_matrix, k) for k in K]\n",
    "\n",
    "plt.figure(figsize=(8, 5))\n",
    "plt.plot(K, item_based_RMSEs, marker='o', linestyle='-', linewidth=2)\n",
    "plt.title(\"Item-Based CF: RMSE vs Number of Neighbors (K)\")\n",
    "plt.xlabel(\"Number of Neighbors (K)\")\n",
    "plt.ylabel(\"RMSE\")\n",
    "plt.grid(True)\n",
    "plt.xticks(K)\n",
    "plt.show()   \n",
    "#########################################\n",
    "\n",
    "end_time = time.time()\n",
    "print(f'Running time: {end_time - start_time:.4f} seconds')"
   ]
  },
  {
   "cell_type": "markdown",
   "id": "413af114-3e5a-4c6d-a131-19aacb3c5eac",
   "metadata": {},
   "source": [
    "Discuss your observations."
   ]
  },
  {
   "cell_type": "markdown",
   "id": "b1cee152-f05f-486d-a0ba-50111c8ad5cc",
   "metadata": {},
   "source": [
    "Here we see a similar pattern as user-based CF, the only difference being that it is about the amount of item neighbors instead of user neighbors."
   ]
  },
  {
   "cell_type": "markdown",
   "id": "b4f0e2d3-f4c8-491a-acec-1e7f63b12cf9",
   "metadata": {},
   "source": [
    "### Question 17: What is the performance of MF model in terms of RMSE for the following hyperparameter values?\n",
    "\n",
    "    n_factors=50\n",
    "\n",
    "    n_epochs=30\n",
    "\n",
    "    learning_rate=0.001\n",
    "\n",
    "    regularization=0.001"
   ]
  },
  {
   "cell_type": "code",
   "execution_count": 24,
   "id": "1b0fa3ef-90f9-4449-99e9-704a6b1f8b23",
   "metadata": {},
   "outputs": [
    {
     "name": "stdout",
     "output_type": "stream",
     "text": [
      "RMSE of MF for n_factors=50, n_epochs=30, learning_rate=0.001 is 0.9531\n",
      "Running time: 11.5268 seconds\n"
     ]
    }
   ],
   "source": [
    "import math\n",
    "\n",
    "def evaluate_mf_rating_prediction(train_data: pd.DataFrame, test_data: pd.DataFrame, n_factors: float, n_epochs: float, learning_rate: float) -> float:\n",
    "    \"\"\"\n",
    "    Evaluate MF using RMSE on a test set.\n",
    "    \n",
    "    Parameters:\n",
    "    - train_data: pd.DataFrame with ['user_id', 'item_id', 'rating'] used for training\n",
    "    - test_data: pd.DataFrame with ['user_id', 'item_id', 'rating'] used for testing\n",
    "    - n_factors: embedding size\n",
    "    - n_epochs: number of training epochs\n",
    "    - learning_rate: Learning rate\n",
    "    \n",
    "    Returns:\n",
    "    - float: RMSE value\n",
    "    \"\"\"\n",
    "    # Hint: set the regularization hyperparameter to 0.001\n",
    "\n",
    "    result = 0.0\n",
    "\n",
    "    ############# Your code here ############\n",
    "    mf = MatrixFactorizationSGD(n_factors=n_factors, n_epochs=n_epochs, learning_rate=learning_rate, regularization=0.001)\n",
    "    mf.fit(train_data, verbose=False)\n",
    "    predictions = mf.predict(test_data)\n",
    "    # Filter for NaN predictions\n",
    "    predictions = [p if not math.isnan(p) else 0.0 for p in predictions]\n",
    "    gt = test_data['rating'].values\n",
    "    rmse = RMSE(gt, predictions)\n",
    "    result = rmse\n",
    "    #########################################\n",
    "    \n",
    "    return result\n",
    "\n",
    "n_factors, n_epochs, learning_rate = 50, 30, 0.001\n",
    "start_time = time.time()\n",
    "print(f\"RMSE of MF for n_factors={n_factors}, n_epochs={n_epochs}, learning_rate={learning_rate} is {evaluate_mf_rating_prediction(train_data, test_data, n_factors, n_epochs, learning_rate):.4f}\")\n",
    "end_time = time.time()\n",
    "print(f'Running time: {end_time - start_time:.4f} seconds')"
   ]
  },
  {
   "cell_type": "markdown",
   "id": "8d16a1bf-2525-4c79-aa2e-3a52c8c26553",
   "metadata": {},
   "source": [
    "### Question 18: Tune MF model with n_factors={10, 30, 50, 70, 90} and the rest of hyperparameters as n_epochs=30, learning_rate=0.001. Visualize the performance with n_factors in x-axis and corresponding RMSE values in y-axis."
   ]
  },
  {
   "cell_type": "code",
   "execution_count": 25,
   "id": "1109397f-812b-4480-929b-49e26d8e0d8c",
   "metadata": {},
   "outputs": [
    {
     "data": {
      "image/png": "[encoded data removed]",
      "text/plain": [
       "<Figure size 800x500 with 1 Axes>"
      ]
     },
     "metadata": {},
     "output_type": "display_data"
    },
    {
     "name": "stdout",
     "output_type": "stream",
     "text": [
      "Running time: 57.0309 seconds\n"
     ]
    }
   ],
   "source": [
    "n_factors = [10,30,50,70,90]\n",
    "n_epochs, learning_rate = 30, 0.001\n",
    "mf_RMSEs = []\n",
    "\n",
    "start_time = time.time()\n",
    "\n",
    "############# Your code here ############\n",
    "mf_RMSEs = [evaluate_mf_rating_prediction(train_data, test_data, i, n_epochs, learning_rate) for i in n_factors]\n",
    "\n",
    "plt.figure(figsize=(8, 5))\n",
    "plt.plot(n_factors, mf_RMSEs, marker='o', linestyle='-', linewidth=2)\n",
    "plt.title(\"MF Model: RMSE vs Embedding size\")\n",
    "plt.xlabel(\"Embedding size\")\n",
    "plt.ylabel(\"RMSE\")\n",
    "plt.grid(True)\n",
    "plt.xticks(K)\n",
    "plt.show()       \n",
    "#########################################\n",
    "\n",
    "end_time = time.time()\n",
    "print(f'Running time: {end_time - start_time:.4f} seconds')"
   ]
  },
  {
   "cell_type": "markdown",
   "id": "dfb836f7-4104-4ea8-8633-e5b241f6a3ef",
   "metadata": {},
   "source": [
    "Discuss your observation."
   ]
  },
  {
   "cell_type": "markdown",
   "id": "4e98560f-0acd-4d1c-bde0-d81114dca728",
   "metadata": {},
   "source": [
    "We see that as the embedding size increases, the error does too. I think this is because a smaller embedding likely contains less irrelevant information. However, it is typically more complex to accurately compress high-dimensional information into a low-dimensional vector."
   ]
  },
  {
   "cell_type": "markdown",
   "id": "7562062e-d6e0-45f4-beaf-c54df63fd8fd",
   "metadata": {},
   "source": [
    "### Question 19: Tune MF model with n_epochs={10, 30, 50, 70, 90} and the rest of hyperparameters as n_factors=10, learning_rate=0.001. Visualize the performance with n_factors in x-axis and corresponding RMSE values in y-axis."
   ]
  },
  {
   "cell_type": "code",
   "execution_count": 26,
   "id": "f17fda8b-77cb-4629-b838-bd8af6a93a76",
   "metadata": {},
   "outputs": [
    {
     "data": {
      "image/png": "[encoded data removed]",
      "text/plain": [
       "<Figure size 800x500 with 1 Axes>"
      ]
     },
     "metadata": {},
     "output_type": "display_data"
    },
    {
     "name": "stdout",
     "output_type": "stream",
     "text": [
      "Running time: 92.7443 seconds\n"
     ]
    }
   ],
   "source": [
    "n_epochs = [10,30,50,70,90]\n",
    "n_factors, learning_rate = 10, 0.001\n",
    "mf_RMSEs = []\n",
    "\n",
    "start_time = time.time()\n",
    "\n",
    "############# Your code here ############\n",
    "mf_RMSEs = [evaluate_mf_rating_prediction(train_data, test_data, n_factors, i, learning_rate) for i in n_epochs]\n",
    "\n",
    "plt.figure(figsize=(8, 5))\n",
    "plt.plot(n_epochs, mf_RMSEs, marker='o', linestyle='-', linewidth=2)\n",
    "plt.title(\"MF Model: RMSE vs Number of epochs\")\n",
    "plt.xlabel(\"#epochs\")\n",
    "plt.ylabel(\"RMSE\")\n",
    "plt.grid(True)\n",
    "plt.xticks(K)\n",
    "plt.show()       \n",
    "#########################################\n",
    "\n",
    "end_time = time.time()\n",
    "print(f'Running time: {end_time - start_time:.4f} seconds')"
   ]
  },
  {
   "cell_type": "markdown",
   "id": "5fa30929-80b2-42a9-b435-1bca77784530",
   "metadata": {},
   "source": [
    "Discuss your observation."
   ]
  },
  {
   "cell_type": "markdown",
   "id": "f05014d8-339c-4498-887c-e6739b9b6940",
   "metadata": {},
   "source": [
    "We see that when the number of epochs increases, the error decreases. When the model is trained for more epochs, it gets better at predicting ratings, up until a certain point."
   ]
  },
  {
   "cell_type": "markdown",
   "id": "68224773-c3b4-490b-ae3f-d1f3452c6d8b",
   "metadata": {},
   "source": [
    "### Question 20: Tune MF model with learning_rate={0.001, 0.005, 0.01, 0.05} and the rest of hyperparameters as n_factors=10, n_epochs=90. Visualize the performance with n_factors in x-axis and corresponding RMSE values in y-axis."
   ]
  },
  {
   "cell_type": "code",
   "execution_count": 27,
   "id": "acd6a30a-1be7-4cbb-9de9-4a1baf51410e",
   "metadata": {},
   "outputs": [
    {
     "data": {
      "image/png": "[encoded data removed]",
      "text/plain": [
       "<Figure size 800x500 with 1 Axes>"
      ]
     },
     "metadata": {},
     "output_type": "display_data"
    },
    {
     "name": "stdout",
     "output_type": "stream",
     "text": [
      "Running time: 134.0626 seconds\n"
     ]
    }
   ],
   "source": [
    "learning_rate = [0.001,0.005,0.01,0.05]\n",
    "n_factors, n_epochs = 10, 90\n",
    "mf_RMSEs = []\n",
    "\n",
    "start_time = time.time()\n",
    "\n",
    "############# Your code here ############\n",
    "mf_RMSEs = [evaluate_mf_rating_prediction(train_data, test_data, n_factors, n_epochs, i) for i in learning_rate]\n",
    "plt.figure(figsize=(8, 5))\n",
    "plt.plot(learning_rate, mf_RMSEs, marker='o', linestyle='-', linewidth=2)\n",
    "plt.title(\"MF Model: RMSE vs Learning rate\")\n",
    "plt.xlabel(\"Learning rate\")\n",
    "plt.ylabel(\"RMSE\")\n",
    "plt.grid(True, which='both')\n",
    "plt.xscale('log')        # <-- makes x-axis spaced evenly in log scale\n",
    "plt.xticks(learning_rate, labels=[str(lr) for lr in learning_rate])\n",
    "plt.show()         \n",
    "#########################################\n",
    "\n",
    "end_time = time.time()\n",
    "print(f'Running time: {end_time - start_time:.4f} seconds')"
   ]
  },
  {
   "cell_type": "markdown",
   "id": "1709aa9c-1e35-4854-b01d-a1e82c81e60f",
   "metadata": {},
   "source": [
    "Discuss your observation."
   ]
  },
  {
   "cell_type": "markdown",
   "id": "74736c7e-72ae-4204-941d-9c856de2c7d9",
   "metadata": {},
   "source": [
    "I had to plot the learning rate on a log-scale to space the data out evenly. We see only a small difference in RMSE when looking at 0.001 v.s. 0.005 for example, but a very large difference in error when looking at 0.01 v.s. 0.05, even though both differ by a factor of 5. A higher learning rate means that the model trains more quickly, but we also see that it can drastically affect the RMSE. Therefore, there is a trade-off between how fast the model trains and how well it performs, similar to the number of epochs."
   ]
  },
  {
   "cell_type": "markdown",
   "id": "c3df0f30-70c8-4c81-b025-4e63413a5b42",
   "metadata": {},
   "source": [
    "# 6) Evaluation of user-based, item-based, and MF models for ranking task"
   ]
  },
  {
   "cell_type": "markdown",
   "id": "642da962-2b8f-4c9f-858f-24a235788e1f",
   "metadata": {},
   "source": [
    "### Question 21: What is the performance of user-based CF in terms of nDCG for k=30?"
   ]
  },
  {
   "cell_type": "code",
   "execution_count": 30,
   "id": "6dcbebf8-5ea5-4af6-87b5-a5e7021511b1",
   "metadata": {},
   "outputs": [],
   "source": [
    "gt_ranking = None\n",
    "\n",
    "def NDCG(ground_truth, rec_list):\n",
    "    # Implement a function that computes NDCG across ground truth data and recommendation list generated for each user. \n",
    "    # Note that ground_truth and rec_list contain the list of items for all users, e.g., 2-dimensional arrays.\n",
    "    \n",
    "    result = 0.0\n",
    "    \n",
    "    ############# Your code here ############\n",
    "    # For each user calculate NDCG and take mean\n",
    "    for gt_items, rec_items in zip(ground_truth, rec_list):\n",
    "        K = len(rec_items)\n",
    "        # Calculate DCG\n",
    "        DCG = 0\n",
    "        for i in range(K):\n",
    "            numerator = 1 if rec_items[i] in gt_items else 0 \n",
    "            denominator = np.log2(i + 2)\n",
    "            DCG += numerator / denominator\n",
    "        # IDCG (ideal is all relevant items up to K)\n",
    "        ideal_len = min(K, len(gt_items))\n",
    "        if ideal_len == 0:\n",
    "            ndcg = 0.0\n",
    "        else:\n",
    "            IDCG = sum(1.0 / np.log2(i + 2) for i in range(ideal_len))\n",
    "            ndcg = DCG / IDCG\n",
    "        # Calculate NDCG\n",
    "        result += ndcg\n",
    "        \n",
    "    # Take mean over all users\n",
    "    result /= float(len(ground_truth))\n",
    "    \n",
    "    #########################################\n",
    "    \n",
    "    return result\n",
    "\n",
    "def get_gt_ranking(test_data) -> [int]:\n",
    "    if gt_ranking is not None:\n",
    "        return gt_ranking\n",
    "\n",
    "    gts = []\n",
    "    \n",
    "    user_ids = test_data['user_id'].unique().tolist()\n",
    "    for user_id in user_ids:\n",
    "        ratings = test_data[test_data['user_id'] == user_id].set_index('item_id')['rating']\n",
    "        gt_ratings = ratings.sort_values(ascending=False).head(k)\n",
    "        gt = gt_ratings.index.values.tolist()\n",
    "        gts.append(gt)\n",
    "\n",
    "    return gts"
   ]
  },
  {
   "cell_type": "code",
   "execution_count": 39,
   "id": "7197d794-baba-4c3e-b8bd-09ae301e4ae2",
   "metadata": {},
   "outputs": [
    {
     "name": "stdout",
     "output_type": "stream",
     "text": [
      "NDCG of user-based CF for k=30 is 0.0025\n",
      "Running time: 6861.7949 seconds\n"
     ]
    }
   ],
   "source": [
    "ps = []\n",
    "\n",
    "def evaluate_user_cf_ranking(train_data, test_data, user_similarity_matrix, k=5):\n",
    "    \"\"\"\n",
    "    Evaluate User-based CF ranking performance using NDCG@K.\n",
    "    \n",
    "    Args:\n",
    "        train_data (pd.DataFrame): training ratings [user_id, item_id, rating]\n",
    "        test_data (pd.DataFrame): test ratings [user_id, item_id, rating]\n",
    "        user_similarity_matrix (pd.DataFrame): precomputed user-user similarity matrix\n",
    "        k (int): number of neighbors for prediction\n",
    "    \n",
    "    Returns:\n",
    "        float: average NDCG@K across test users\n",
    "    \"\"\"\n",
    "    result = 0.0\n",
    "\n",
    "    ############# Your code here ############\n",
    "    gts = get_gt_ranking(test_data)\n",
    "    preds = []\n",
    "    for user_id in test_data['user_id'].unique():\n",
    "        pred = recommend_topk_user_based(train_data, user_similarity_matrix, user_id, k)\n",
    "        pred_items = [item_id for item_id, _ in pred]\n",
    "        preds.append(pred_items) # item id \n",
    "    ps = preds\n",
    "    ndcg = NDCG(gts, preds)\n",
    "\n",
    "    result = ndcg\n",
    "    #########################################\n",
    "    \n",
    "    return result\n",
    "\n",
    "k = 30\n",
    "start_time = time.time()\n",
    "print(f\"NDCG of user-based CF for k={k} is {evaluate_user_cf_ranking(train_data, test_data, user_similarity_matrix, k):.4f}\")\n",
    "end_time = time.time()\n",
    "print(f'Running time: {end_time - start_time:.4f} seconds')"
   ]
  },
  {
   "cell_type": "markdown",
   "id": "2f5d5d2e-1393-4e90-b564-88cedc5e2c55",
   "metadata": {},
   "source": [
    "### Question 22: What is the performance of item-based CF in terms of nDCG for k=30?"
   ]
  },
  {
   "cell_type": "code",
   "execution_count": 40,
   "id": "1a1f5ad6-f641-4c85-9cbc-68d6e72b57d9",
   "metadata": {},
   "outputs": [
    {
     "name": "stdout",
     "output_type": "stream",
     "text": [
      "NDCG of item-based CF for k=30 is 0.0309\n",
      "Running time: 2035.3396 seconds\n"
     ]
    }
   ],
   "source": [
    "def evaluate_item_cf_ranking(train_data, test_data, item_similarity_matrix, k=5):\n",
    "    \"\"\"\n",
    "    Evaluate Item-based CF ranking performance using NDCG@K.\n",
    "    \n",
    "    Args:\n",
    "        train_data (pd.DataFrame): training ratings [user_id, item_id, rating]\n",
    "        test_data (pd.DataFrame): test ratings [user_id, item_id, rating]\n",
    "        item_similarity_matrix (pd.DataFrame): precomputed item-item similarity matrix\n",
    "        k (int): number of neighbors for prediction\n",
    "    \n",
    "    Returns:\n",
    "        float: average NDCG@K across test users\n",
    "    \"\"\"\n",
    "    result = 0.0\n",
    "\n",
    "    ############# Your code here ############\n",
    "    gts = get_gt_ranking(test_data)\n",
    "    preds = []\n",
    "    for user_id in test_data['user_id'].unique():\n",
    "        pred = recommend_topk_item_based(train_data, user_similarity_matrix, user_id, k)\n",
    "        pred_items = [item_id for item_id, _ in pred]\n",
    "        preds.append(pred_items) # item id \n",
    "    ps = preds\n",
    "    ndcg = NDCG(gts, preds)\n",
    "\n",
    "    result = ndcg\n",
    "    #########################################\n",
    "    \n",
    "    return result\n",
    "\n",
    "k = 30\n",
    "start_time = time.time()\n",
    "print(f\"NDCG of item-based CF for k={k} is {evaluate_item_cf_ranking(train_data, test_data, item_similarity_matrix, k):.4f}\")\n",
    "end_time = time.time()\n",
    "print(f'Running time: {end_time - start_time:.4f} seconds')"
   ]
  },
  {
   "cell_type": "markdown",
   "id": "6b0ddef6-e1be-4c6d-af7d-b4cd6968ed37",
   "metadata": {},
   "source": [
    "### Question 23: What is the performance of MF model in terms of NDCG for the following hyperparameter values?\n",
    "\n",
    "    n_factors=50\n",
    "\n",
    "    n_epochs=30\n",
    "\n",
    "    learning_rate=0.001\n",
    "\n",
    "    regularization=0.001"
   ]
  },
  {
   "cell_type": "code",
   "execution_count": 50,
   "id": "becf5a95-78bd-4686-8699-7b454e553ec0",
   "metadata": {},
   "outputs": [
    {
     "name": "stdout",
     "output_type": "stream",
     "text": [
      "NDCG of MF for n_factors=50, n_epochs=30, learning_rate=0.001 is 0.1125\n",
      "Running time: 10.9798 seconds\n"
     ]
    }
   ],
   "source": [
    "def evaluate_mf_ranking(train_data: pd.DataFrame, test_data: pd.DataFrame, n_factors: float, n_epochs: float, learning_rate: float) -> float:\n",
    "    \"\"\"\n",
    "    Evaluate MF in terms of NDCG.\n",
    "    \n",
    "    Parameters:\n",
    "    - train_data: pd.DataFrame with ['user_id', 'item_id', 'rating'] used for training\n",
    "    - test_data: pd.DataFrame with ['user_id', 'item_id', 'rating'] used for testing\n",
    "    - n_factors: embedding size\n",
    "    - n_epochs: number of training epochs\n",
    "    - learning_rate: Learning rate\n",
    "    \n",
    "    Returns:\n",
    "    - float: NDCG value\n",
    "    \"\"\"\n",
    "    # Hint: set the regularization hyperparameter to 0.001\n",
    "\n",
    "    result = 0.0\n",
    "\n",
    "    ############# Your code here ############\n",
    "    gts = get_gt_ranking(test_data)\n",
    "\n",
    "    mf = MatrixFactorizationSGD(n_factors=n_factors, n_epochs=n_epochs, learning_rate=learning_rate, regularization=0.001)\n",
    "    mf.fit(train_data, verbose=False)\n",
    "    user_ids = test_data['user_id'].unique()\n",
    "    k = 30\n",
    "    preds = []\n",
    "    for user_id in test_data['user_id'].unique():\n",
    "        pred = mf.recommend_topk(user_id, train_data, k)\n",
    "        pred_items = [item_id for item_id, _ in pred]\n",
    "        preds.append(pred_items) # item id \n",
    "    ps = preds\n",
    "    \n",
    "    ndcg = NDCG(gts, preds)\n",
    "    result = ndcg\n",
    "    #########################################\n",
    "    \n",
    "    return result\n",
    "\n",
    "n_factors, n_epochs, learning_rate = 50, 30, 0.001\n",
    "start_time = time.time()\n",
    "print(f\"NDCG of MF for n_factors={n_factors}, n_epochs={n_epochs}, learning_rate={learning_rate} is {evaluate_mf_ranking(train_data, test_data, n_factors, n_epochs, learning_rate):.4f}\")\n",
    "end_time = time.time()\n",
    "print(f'Running time: {end_time - start_time:.4f} seconds')"
   ]
  },
  {
   "cell_type": "markdown",
   "id": "3cd01fb5-4f53-4621-a8bb-b47785a157ea",
   "metadata": {},
   "source": [
    "### Question 24: Tune MF model with n_factors={10, 30, 50, 70, 90} and the rest of hyperparameters as n_epochs=30, learning_rate=0.001. Visualize the performance with n_factors in x-axis and corresponding NDCG values in y-axis."
   ]
  },
  {
   "cell_type": "code",
   "execution_count": 51,
   "id": "2831fd1f-88c3-4fea-8978-05974b74647d",
   "metadata": {},
   "outputs": [
    {
     "data": {
      "image/png": "[encoded data removed]",
      "text/plain": [
       "<Figure size 800x500 with 1 Axes>"
      ]
     },
     "metadata": {},
     "output_type": "display_data"
    },
    {
     "name": "stdout",
     "output_type": "stream",
     "text": [
      "Running time: 58.1461 seconds\n"
     ]
    }
   ],
   "source": [
    "n_factors = [10,30,50,70,90]\n",
    "n_epochs, learning_rate = 30, 0.001\n",
    "mf_NDCGs = []\n",
    "\n",
    "start_time = time.time()\n",
    "\n",
    "############# Your code here ############\n",
    "mf_NDCGs = [evaluate_mf_ranking(train_data, test_data, i, n_epochs, learning_rate) for i in n_factors]\n",
    "\n",
    "plt.figure(figsize=(8, 5))\n",
    "plt.plot(n_factors, mf_NDCGs, marker='o', linestyle='-', linewidth=2)\n",
    "plt.title(\"MF Model: NDCG vs Embedding size\")\n",
    "plt.xlabel(\"Embedding size\")\n",
    "plt.ylabel(\"NDCG\")\n",
    "plt.grid(True)\n",
    "plt.xticks(K)\n",
    "plt.show()      \n",
    "#########################################\n",
    "\n",
    "end_time = time.time()\n",
    "print(f'Running time: {end_time - start_time:.4f} seconds')"
   ]
  },
  {
   "cell_type": "markdown",
   "id": "79e57cc8-9020-48ad-aa6e-642c3a894f5c",
   "metadata": {},
   "source": [
    "### Question 25: Tune MF model with n_epochs={10, 30, 50, 70, 90} and the rest of hyperparameters as n_factors=30, learning_rate=0.001. Visualize the performance with n_factors in x-axis and corresponding NDCG values in y-axis."
   ]
  },
  {
   "cell_type": "code",
   "execution_count": 52,
   "id": "93fef30f-d91d-46ad-b258-1fe819f61df8",
   "metadata": {},
   "outputs": [
    {
     "data": {
      "image/png": "[encoded data removed]",
      "text/plain": [
       "<Figure size 800x500 with 1 Axes>"
      ]
     },
     "metadata": {},
     "output_type": "display_data"
    },
    {
     "name": "stdout",
     "output_type": "stream",
     "text": [
      "Running time: 97.4265 seconds\n"
     ]
    }
   ],
   "source": [
    "n_epochs = [10,30,50,70,90]\n",
    "n_factors, learning_rate = 30, 0.001\n",
    "mf_NDCGs = []\n",
    "\n",
    "start_time = time.time()\n",
    "\n",
    "############# Your code here ############\n",
    "mf_NDCGs = [evaluate_mf_ranking(train_data, test_data, n_factors, i, learning_rate) for i in n_epochs]\n",
    "\n",
    "plt.figure(figsize=(8, 5))\n",
    "plt.plot(n_epochs, mf_NDCGs, marker='o', linestyle='-', linewidth=2)\n",
    "plt.title(\"MF Model: NDCG vs Number of epochs\")\n",
    "plt.xlabel(\"# epochs\")\n",
    "plt.ylabel(\"NDCG\")\n",
    "plt.grid(True)\n",
    "plt.xticks(K)\n",
    "plt.show()          \n",
    "#########################################\n",
    "\n",
    "end_time = time.time()\n",
    "print(f'Running time: {end_time - start_time:.4f} seconds')"
   ]
  },
  {
   "cell_type": "markdown",
   "id": "76fbfea0-85bd-47ce-ac62-e3bfaa6d3177",
   "metadata": {},
   "source": [
    "### Question 26: Tune MF model with learning_rate={0.001, 0.005, 0.01, 0.05} and the rest of hyperparameters as n_factors=10, n_epochs=90. Visualize the performance with n_factors in x-axis and corresponding NDCG values in y-axis."
   ]
  },
  {
   "cell_type": "code",
   "execution_count": 53,
   "id": "50cf5226-c175-4d47-98a8-704550915fbe",
   "metadata": {},
   "outputs": [
    {
     "data": {
      "image/png": "[encoded data removed]",
      "text/plain": [
       "<Figure size 800x500 with 1 Axes>"
      ]
     },
     "metadata": {},
     "output_type": "display_data"
    },
    {
     "name": "stdout",
     "output_type": "stream",
     "text": [
      "Running time: 135.4208 seconds\n"
     ]
    }
   ],
   "source": [
    "learning_rate = [0.001,0.005,0.01,0.05]\n",
    "n_factors, n_epochs = 10, 90\n",
    "mf_NDCGs = []\n",
    "\n",
    "start_time = time.time()\n",
    "\n",
    "############# Your code here ############\n",
    "mf_NDCGs = [evaluate_mf_ranking(train_data, test_data, n_factors, n_epochs, i) for i in learning_rate]\n",
    "\n",
    "plt.figure(figsize=(8, 5))\n",
    "plt.plot(learning_rate, mf_NDCGs, marker='o', linestyle='-', linewidth=2)\n",
    "plt.title(\"MF Model: NDCG vs Learning rate\")\n",
    "plt.xlabel(\"Learning rate\")\n",
    "plt.ylabel(\"NDCG\")\n",
    "plt.grid(True, which='both')\n",
    "plt.xscale('log')        # <-- makes x-axis spaced evenly in log scale\n",
    "plt.xticks(learning_rate, labels=[str(lr) for lr in learning_rate])\n",
    "plt.show()         \n",
    "#########################################\n",
    "\n",
    "end_time = time.time()\n",
    "print(f'Running time: {end_time - start_time:.4f} seconds')"
   ]
  },
  {
   "cell_type": "markdown",
   "id": "ff3e7660-ce0a-4b56-b679-bcf4de71bc61",
   "metadata": {},
   "source": [
    "# 7) Discussion"
   ]
  },
  {
   "cell_type": "markdown",
   "id": "154e232b-1ad8-47f2-a3e5-c742fc4c73ae",
   "metadata": {},
   "source": [
    "### Question 27: Compare the performance of CF methods with the content-based recommendation model developed in assignment 1. Discuss your observations."
   ]
  },
  {
   "cell_type": "markdown",
   "id": "d43adaff-e8c5-445f-98cf-638d897bc6c4",
   "metadata": {},
   "source": [
    "To compare the performance of the models we look at the RMSE for rating-prediction and the NDCG for Ranking-prediction, note that I picked the content-based variant with the lowest RMSE for the comparison.\n",
    "\n",
    "<h2>Rating-prediction (k=50)</h2>\n",
    "For the rating prediction we see that the User-Based CF and MF lead to a far lower error than the other 2. Furthermore, it is to be noted that the Matrix Factorization approach is a lot faster to evaluate than the other ones, probably due to how everything is implemented through pandas instead of numpy.\n",
    "<table>\n",
    "  <tr>\n",
    "    <th>Model</th>\n",
    "    <th>RMSE</th>\n",
    "  </tr>\n",
    "  <tr>\n",
    "    <td>User-Based CF</td>\n",
    "    <td>0.9361</td>\n",
    "  </tr>\n",
    "  <tr>\n",
    "    <td>Item-Based CF</td>\n",
    "    <td>1.1004</td>\n",
    "  </tr>\n",
    "  <tr>\n",
    "    <td>MF</td>\n",
    "    <td>0.9531</td>\n",
    "  </tr>\n",
    "  <tr>\n",
    "    <td>Content-Based (type=full,average)</td>\n",
    "    <td>1.21568</td>\n",
    "  </tr>\n",
    "</table>\n",
    "\n",
    "<h2>Ranking-prediction (k=30)</h2>\n",
    "When looking at the NDCG, we see that the MF algorithm leads to a higher score than the other CF approaches implemented in this assignment. Contrary to my expectations, we see that the Content-Based recommender has an NDCG score which is significantly better than the others. This is strange to me, as the error for rating prediction (which the ranking relies on) was the worst out of all algorithms. \n",
    "\n",
    "After looking at the code for the previous assignment, I see that the recommendation list there is of size 10 instead of 30, like the others in this assignment are. Due to the computational complexity of this assignment I will not recompute these values, and simply say that we cannot compare them like this.\n",
    "<table>\n",
    "  <tr>\n",
    "    <th>Model</th>\n",
    "    <th>NDCG</th>\n",
    "  </tr>\n",
    "  <tr>\n",
    "    <td>User-Based CF</td>\n",
    "    <td>0.0025</td>\n",
    "  </tr>\n",
    "  <tr>\n",
    "    <td>Item-Based CF</td>\n",
    "    <td>0.0309</td>\n",
    "  </tr>\n",
    "  <tr>\n",
    "    <td>MF</td>\n",
    "    <td>0.1125</td>\n",
    "  </tr>\n",
    "  <tr>\n",
    "    <td>Content-Based (type=full,average)</td>\n",
    "    <td>0.57789</td>\n",
    "  </tr>\n",
    "</table>"
   ]
  }
 ],
 "metadata": {
  "kernelspec": {
   "display_name": "Python 3 (ipykernel)",
   "language": "python",
   "name": "python3"
  },
  "language_info": {
   "codemirror_mode": {
    "name": "ipython",
    "version": 3
   },
   "file_extension": ".py",
   "mimetype": "text/x-python",
   "name": "python",
   "nbconvert_exporter": "python",
   "pygments_lexer": "ipython3",
   "version": "3.13.7"
  }
 },
 "nbformat": 4,
 "nbformat_minor": 5
}
